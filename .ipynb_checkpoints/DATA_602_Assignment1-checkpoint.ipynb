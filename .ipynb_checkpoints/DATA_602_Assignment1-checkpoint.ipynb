{
 "cells": [
  {
   "cell_type": "markdown",
   "metadata": {},
   "source": [
    "# Assignment 1"
   ]
  },
  {
   "cell_type": "markdown",
   "metadata": {},
   "source": [
    "## Question 1:\n",
    "\n",
    "Fix all the syntax and logical errors in the given source code \n",
    "add comments to explain your reasoning\n",
    "\n",
    "This program gets three test scores and displays their average.  It congratulates the user if the \n",
    "average is a high score. The high score variable holds the value that is considered a high score."
   ]
  },
  {
   "cell_type": "code",
   "execution_count": 26,
   "metadata": {},
   "outputs": [
    {
     "name": "stdout",
     "output_type": "stream",
     "text": [
      "Enter the score for test 1: 95\n",
      "Enter the score for test 2: 90\n",
      "Enter the score for test 3: 100\n",
      "Congratulations! That is a great average!\n"
     ]
    }
   ],
   "source": [
    "high_score = 95\n",
    " \n",
    "# Get the test scores.\n",
    "#turning each test score into an integer\n",
    "test1 = int(input('Enter the score for test 1: '))\n",
    "test2 = int(input('Enter the score for test 2: '))\n",
    "test3 = int(input('Enter the score for test 3: '))\n",
    "#added test3 since it was missing\n",
    "# Calculate the average test score.\n",
    "average = (test1 + test2 + test3) / 3\n",
    "# Print the average.\n",
    "#print('The average score is', average)\n",
    "# If the average is a high score,\n",
    "# congratulate the user.\n",
    "if average >= high_score:\n",
    "    print('Congratulations! That is a great average!')    "
   ]
  },
  {
   "cell_type": "markdown",
   "metadata": {},
   "source": [
    "## Question 2:\n",
    "The area of a rectangle is the rectangle’s length times its width. Write a program that asks for the length and width of two rectangles and prints to the user the area of both rectangles."
   ]
  },
  {
   "cell_type": "code",
   "execution_count": 3,
   "metadata": {},
   "outputs": [
    {
     "name": "stdout",
     "output_type": "stream",
     "text": [
      "7\n",
      "10\n",
      "9\n",
      "5\n",
      "70 45\n"
     ]
    }
   ],
   "source": [
    "# area of rectangle = length x width\n",
    "length = int(input())\n",
    "width = int(input())\n",
    "a = length * width\n",
    "length2 = int(input())\n",
    "width2 = int(input())\n",
    "a2 = length2 * width2\n",
    "print(a, a2)"
   ]
  },
  {
   "cell_type": "markdown",
   "metadata": {},
   "source": [
    "## Question # 3:\n",
    "\n",
    "Ask a user to enter their first name and their age and assign it to the variables name and age. \n",
    "The variable name should be a string and the variable age should be an int.  \n",
    "\n",
    "Using the variables name and age, print a message to the user stating something along the lines of:\n",
    "\"Happy birthday, name!  You are age years old today!\""
   ]
  },
  {
   "cell_type": "code",
   "execution_count": 35,
   "metadata": {},
   "outputs": [
    {
     "name": "stdout",
     "output_type": "stream",
     "text": [
      "Enter your first name: Mohamed\n",
      "Enter your age: 36\n",
      "Happy Birthday, Mohamed! You are 36 years old today!\n"
     ]
    }
   ],
   "source": [
    "number = 36\n",
    "name = str(input(\"Enter your first name: \"))\n",
    "age = int(input(\"Enter your age: \"))\n",
    "if number == age:\n",
    "    print(\"Happy Birthday, \" + name + \"! \" + \"You are\", age, \"years old today!\")"
   ]
  }
 ],
 "metadata": {
  "kernelspec": {
   "display_name": "Python 3",
   "language": "python",
   "name": "python3"
  },
  "language_info": {
   "codemirror_mode": {
    "name": "ipython",
    "version": 3
   },
   "file_extension": ".py",
   "mimetype": "text/x-python",
   "name": "python",
   "nbconvert_exporter": "python",
   "pygments_lexer": "ipython3",
   "version": "3.8.5"
  },
  "toc": {
   "base_numbering": 1,
   "nav_menu": {},
   "number_sections": false,
   "sideBar": true,
   "skip_h1_title": false,
   "title_cell": "Table of Contents",
   "title_sidebar": "Contents",
   "toc_cell": false,
   "toc_position": {},
   "toc_section_display": true,
   "toc_window_display": true
  }
 },
 "nbformat": 4,
 "nbformat_minor": 4
}
