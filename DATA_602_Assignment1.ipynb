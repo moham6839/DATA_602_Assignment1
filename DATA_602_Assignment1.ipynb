{
 "cells": [
  {
   "cell_type": "code",
   "execution_count": null,
   "metadata": {},
   "outputs": [],
   "source": [
    "#Q1 Fix all the syntax and logical errors in the given source code \n",
    "#add comments to explain your reasoning\n",
    "\n",
    "# This program gets three test scores and displays their average.  It congratulates the user if the \n",
    "# average is a high score. The high score variable holds the value that is considered a high score.\n",
    "\n",
    "HIGH_SCORE = 95\n",
    " \n",
    "# Get the test scores.\n",
    "test1 = input('Enter the score for test 1: ')\n",
    "test2 = input('Enter the score for test 2: ')\n",
    "# Calculate the average test score.\n",
    "average = test1 + test2 + test3 / 3\n",
    "# Print the average.\n",
    "print('The average score is', average)\n",
    "# If the average is a high score,\n",
    "# congratulate the user.\n",
    "if average >= high_score:\n",
    "    print('Congratulations!')\n",
    "print('That is a great average!')\n",
    "\n",
    "#Q2\n",
    "#The area of a rectangle is the rectangle’s length times its width. Write a program that asks for the length and width of two rectangles and prints to the user the area of both rectangles. \n",
    "\n",
    "\n",
    "#Q3 \n",
    "#Ask a user to enter their first name and their age and assign it to the variables name and age. \n",
    "#The variable name should be a string and the variable age should be an int.  \n",
    "\n",
    "#Using the variables name and age, print a message to the user stating something along the lines of:\n",
    "# \"Happy birthday, name!  You are age years old today!\""
   ]
  }
 ],
 "metadata": {
  "kernelspec": {
   "display_name": "Python 3",
   "language": "python",
   "name": "python3"
  },
  "language_info": {
   "codemirror_mode": {
    "name": "ipython",
    "version": 3
   },
   "file_extension": ".py",
   "mimetype": "text/x-python",
   "name": "python",
   "nbconvert_exporter": "python",
   "pygments_lexer": "ipython3",
   "version": "3.8.5"
  },
  "toc": {
   "base_numbering": 1,
   "nav_menu": {},
   "number_sections": true,
   "sideBar": true,
   "skip_h1_title": false,
   "title_cell": "Table of Contents",
   "title_sidebar": "Contents",
   "toc_cell": false,
   "toc_position": {},
   "toc_section_display": true,
   "toc_window_display": false
  }
 },
 "nbformat": 4,
 "nbformat_minor": 4
}
