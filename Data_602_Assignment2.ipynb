{
 "cells": [
  {
   "cell_type": "markdown",
   "metadata": {},
   "source": [
    "# Assignment 2"
   ]
  },
  {
   "cell_type": "markdown",
   "metadata": {},
   "source": [
    "## Q1. \n",
    "What will the following code display?\n",
    "numbers = [1, 2, 3, 4, 5]\n",
    "print(numbers[1:-5])\n",
    "Can you debug and fix the output? The code should return the entire list"
   ]
  },
  {
   "cell_type": "code",
   "execution_count": 1,
   "metadata": {},
   "outputs": [
    {
     "name": "stdout",
     "output_type": "stream",
     "text": [
      "[]\n"
     ]
    }
   ],
   "source": [
    "numbers = [1,2,3,4,5]\n",
    "print(numbers[1:-5])"
   ]
  },
  {
   "cell_type": "code",
   "execution_count": 2,
   "metadata": {},
   "outputs": [
    {
     "name": "stdout",
     "output_type": "stream",
     "text": [
      "[1, 2, 3, 4, 5]\n"
     ]
    }
   ],
   "source": [
    "print(numbers[:5])"
   ]
  },
  {
   "cell_type": "markdown",
   "metadata": {},
   "source": [
    "## Q2. \n",
    "Design a program that asks the user to enter a store’s sales for each day of the\n",
    "week. The amounts should be stored in a list. Use a loop to calculate the total sales for\n",
    "the week and display the result."
   ]
  },
  {
   "cell_type": "code",
   "execution_count": 6,
   "metadata": {},
   "outputs": [
    {
     "name": "stdout",
     "output_type": "stream",
     "text": [
      "What is the store sales for Monday: 65\n",
      "What is the store sales for Tuesday: 34\n",
      "What is the store sales for Wednesday: 78\n",
      "What is the store sales for Thursday: 99\n",
      "What is the store sales for Friday: 90\n",
      "What is the store sales for Saturday: 34\n",
      "What is the store sales for Sunday: 45\n"
     ]
    },
    {
     "data": {
      "text/plain": [
       "445"
      ]
     },
     "execution_count": 6,
     "metadata": {},
     "output_type": "execute_result"
    }
   ],
   "source": [
    "def weeklysales():\n",
    "    sales = []\n",
    "    days = ['Monday', 'Tuesday', 'Wednesday', 'Thursday', 'Friday', 'Saturday', 'Sunday']\n",
    "    for i in days:\n",
    "        sale = int(input(f'What is the store sales for {i}: '))\n",
    "        sales.append(sale)\n",
    "    return(sum(sales))\n",
    "weeklysales()"
   ]
  },
  {
   "cell_type": "markdown",
   "metadata": {},
   "source": [
    "## Q3. \n",
    "Create a list with at least 5 places you’d like to travel to. Make sure the list isn’t in\n",
    "alphabetical order\n",
    "● Print your list in its original order.\n",
    "● Use the sort() function to arrange your list in order and reprint your list.\n",
    "● Use the sort(reverse=True) and reprint your list."
   ]
  },
  {
   "cell_type": "code",
   "execution_count": 7,
   "metadata": {},
   "outputs": [
    {
     "name": "stdout",
     "output_type": "stream",
     "text": [
      "['Bermuda', 'Jamaica', 'Hawaii', 'Aruba', 'Antigua']\n"
     ]
    }
   ],
   "source": [
    "travel_places = ['Bermuda', 'Jamaica', 'Hawaii', 'Aruba', 'Antigua']\n",
    "print(travel_places)"
   ]
  },
  {
   "cell_type": "code",
   "execution_count": 8,
   "metadata": {},
   "outputs": [
    {
     "name": "stdout",
     "output_type": "stream",
     "text": [
      "['Antigua', 'Aruba', 'Bermuda', 'Hawaii', 'Jamaica']\n"
     ]
    }
   ],
   "source": [
    "travel_places.sort()\n",
    "print(travel_places)"
   ]
  },
  {
   "cell_type": "code",
   "execution_count": 9,
   "metadata": {},
   "outputs": [
    {
     "name": "stdout",
     "output_type": "stream",
     "text": [
      "['Jamaica', 'Hawaii', 'Bermuda', 'Aruba', 'Antigua']\n"
     ]
    }
   ],
   "source": [
    "travel_places.sort(reverse=True)\n",
    "print(travel_places)"
   ]
  },
  {
   "cell_type": "markdown",
   "metadata": {},
   "source": [
    "## Q4. \n",
    "Write a program that creates a dictionary containing course numbers and the room\n",
    "numbers of the rooms where the courses meet. The program should also create a\n",
    "dictionary containing course numbers and the names of the instructors that teach each\n",
    "course. After that, the program should let the user enter a course number, then it should\n",
    "display the course’s room number, instructor, and meeting time."
   ]
  },
  {
   "cell_type": "code",
   "execution_count": 10,
   "metadata": {
    "scrolled": true
   },
   "outputs": [],
   "source": [
    "courses = ['602', '605', '607']\n",
    "rooms = ['4001', '4003', '4007']\n",
    "instructors = ['Bryer', 'Catlin', 'Fulton']\n",
    "meeting_time = ['6:00pm', '7:00pm', '8:00pm']\n",
    "\n",
    "#dict((z[0], list(z[1:])) for z in zip(rooms, instructors, meeting_time))\n",
    "\n",
    "#{z[0]: list(z[1:]) for z in zip(rooms, instructors, meeting_time)}\n",
    "\n",
    "new_courses = dict(zip(courses, zip(rooms, instructors, meeting_time)))"
   ]
  },
  {
   "cell_type": "code",
   "execution_count": 11,
   "metadata": {},
   "outputs": [
    {
     "name": "stdout",
     "output_type": "stream",
     "text": [
      "Enter a course number: 602\n",
      "Room: 4001\n",
      "Instructor: Bryer\n",
      "Meeting Time: 6:00pm\n"
     ]
    }
   ],
   "source": [
    "course_combination = input(\"Enter a course number: \")\n",
    "\n",
    "if course_combination in new_courses:\n",
    "    rooms, instructors, meeting_time = new_courses[course_combination]\n",
    "    print(f\"Room: {rooms}\\nInstructor: {instructors}\\nMeeting Time: {meeting_time}\")\n",
    "else:\n",
    "    print(f\"Course {course_combination} not found.\")"
   ]
  },
  {
   "cell_type": "markdown",
   "metadata": {},
   "source": [
    "## Q5. \n",
    "Write a program that keeps names and email addresses in a dictionary as\n",
    "key-value pairs. The program should then demonstrate the four options:\n",
    "● look up a person’s email address,\n",
    "● add a new name and email address,\n",
    "● change an existing email address, and\n",
    "● delete an existing name and email address."
   ]
  },
  {
   "cell_type": "code",
   "execution_count": 12,
   "metadata": {},
   "outputs": [
    {
     "name": "stdout",
     "output_type": "stream",
     "text": [
      "\n",
      " Options: \n",
      "1. Find email\n",
      "2. Add email\n",
      "3. Update email\n",
      "4. Delete email\n",
      "5. Close\n",
      "Enter option number: 1\n",
      "Enter name: Mohamed Hassan\n",
      "Mohamed Hassan: moe6839@gmail.com\n",
      "\n",
      " Options: \n",
      "1. Find email\n",
      "2. Add email\n",
      "3. Update email\n",
      "4. Delete email\n",
      "5. Close\n",
      "Enter option number: 5\n"
     ]
    }
   ],
   "source": [
    "addressbook = {'Mohamed Hassan' : 'moe6839@gmail.com'}\n",
    "\n",
    "#find email\n",
    "def find_email():\n",
    "    name = input(\"Enter name: \")\n",
    "    email = addressbook.get(name)\n",
    "    if name in addressbook:\n",
    "        print(f\"{name}: {email}\")\n",
    "    else:\n",
    "        print(f\"No email in address book for {name}\")\n",
    "\n",
    "#add email\n",
    "def add_email():\n",
    "    name = input(\"Enter name: \")\n",
    "    email = input(\"Enter email: \")\n",
    "    addressbook[name] = email\n",
    "    print(f\"Email for {name} stored in addressbook as {email} \")\n",
    "\n",
    "#update email\n",
    "def update_email():\n",
    "    name = input(\"Enter name to be updated: \")\n",
    "    email = addressbook.get(name)\n",
    "\n",
    "    if email:\n",
    "        new_email = input(\"Enter new email: \")\n",
    "        addressbook[name] = new_email\n",
    "        print(f\"{name}'s email was updated to {new_email}\")\n",
    "    else:\n",
    "        print(f\"No email exists for {name}\")\n",
    "\n",
    "\n",
    "#delete_email\n",
    "def delete_email():\n",
    "    name = input(\"Enter name: \")\n",
    "    if name in addressbook:\n",
    "        del addressbook[name]\n",
    "        print (f\"{name} was deleted from addressbook\")\n",
    "    else:\n",
    "        print(f\" No email exists for {name}\")\n",
    "\n",
    "while True:\n",
    "    print(\"\\n Options: \")\n",
    "    print(\"1. Find email\")\n",
    "    print(\"2. Add email\")\n",
    "    print(\"3. Update email\")\n",
    "    print(\"4. Delete email\")\n",
    "    print(\"5. Close\")\n",
    "    option = int(input(\"Enter option number: \"))\n",
    "\n",
    "    if option == 1:\n",
    "        find_email()\n",
    "    elif option == 2:\n",
    "        add_email()\n",
    "    elif option == 3:\n",
    "        update_email()\n",
    "    elif option == 4:\n",
    "        delete_email()\n",
    "    elif option == 5:\n",
    "        break\n",
    "    else:\n",
    "        print(\"Invalid Reponse\")"
   ]
  }
 ],
 "metadata": {
  "kernelspec": {
   "display_name": "Python 3",
   "language": "python",
   "name": "python3"
  },
  "language_info": {
   "codemirror_mode": {
    "name": "ipython",
    "version": 3
   },
   "file_extension": ".py",
   "mimetype": "text/x-python",
   "name": "python",
   "nbconvert_exporter": "python",
   "pygments_lexer": "ipython3",
   "version": "3.8.5"
  },
  "toc": {
   "base_numbering": "",
   "nav_menu": {},
   "number_sections": false,
   "sideBar": true,
   "skip_h1_title": false,
   "title_cell": "Table of Contents",
   "title_sidebar": "Contents",
   "toc_cell": false,
   "toc_position": {},
   "toc_section_display": true,
   "toc_window_display": true
  }
 },
 "nbformat": 4,
 "nbformat_minor": 4
}
