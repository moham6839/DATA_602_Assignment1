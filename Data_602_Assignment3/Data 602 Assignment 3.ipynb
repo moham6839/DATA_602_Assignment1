{
 "cells": [
  {
   "cell_type": "markdown",
   "metadata": {},
   "source": [
    "# Assignment 3"
   ]
  },
  {
   "cell_type": "markdown",
   "metadata": {},
   "source": [
    "# Q1: \n",
    "Write a program that prompts the user for a meal: breakfast, lunch, or dinner. Then using if statements and else statements print the user a message recommending a meal. For example, if the meal was breakfast, you could say something like, “How about some bacon and eggs?”\n",
    "The user may enter something else in, but you only have to respond to breakfast, lunch, or dinner."
   ]
  },
  {
   "cell_type": "code",
   "execution_count": 41,
   "metadata": {},
   "outputs": [
    {
     "name": "stdout",
     "output_type": "stream",
     "text": [
      "Enter desired meal: dinner\n",
      "How about some salmon tacos?\n"
     ]
    }
   ],
   "source": [
    "x = str(input(\"Enter desired meal: \"))\n",
    "meals = [\"breakfast\", \"lunch\", \"dinner\"]\n",
    "if i in meals:\n",
    "    if x == \"breakfast\":\n",
    "        print(\"How about some bacon and eggs?\")\n",
    "    elif x == \"lunch\":\n",
    "        print(\"How about some pizza?\")\n",
    "    elif x == \"dinner\":\n",
    "        print(\"How about some salmon tacos?\")\n",
    "    else:\n",
    "        print(\"Error, I don't understand what you wrote\")"
   ]
  },
  {
   "cell_type": "markdown",
   "metadata": {},
   "source": [
    "# Q2: \n",
    "The mailroom has asked you to design a simple payroll program that calculates a student employee’s gross pay, including any overtime wages. If any employee works over 20 hours in a week, the mailroom pays them 1.5 times their regular hourly pay rate for all hours over 20. \n",
    "\n",
    "You should take in the user’s input for the number of hours worked, and their rate of pay."
   ]
  },
  {
   "cell_type": "code",
   "execution_count": 51,
   "metadata": {},
   "outputs": [
    {
     "name": "stdout",
     "output_type": "stream",
     "text": [
      "Enter number of hours worked: 20\n",
      "Enter rate of pay: 20\n",
      "400\n"
     ]
    }
   ],
   "source": [
    "number_of_hours_worked = int(input(\"Enter number of hours worked: \"))\n",
    "wage = int(input(\"Enter rate of pay: \"))\n",
    "\n",
    "if number_of_hours_worked <= 20:\n",
    "    gross_pay = wage * number_of_hours_worked\n",
    "elif number_of_hours_worked > 20:\n",
    "    gross_pay = (wage*20) + wage*1.5 * (number_of_hours_worked - 20) \n",
    "print(gross_pay)"
   ]
  },
  {
   "cell_type": "markdown",
   "metadata": {},
   "source": [
    "# Q3: \n",
    "Write a function named times_ten. The function should accept an argument and display the product of its argument multiplied times 10."
   ]
  },
  {
   "cell_type": "code",
   "execution_count": 52,
   "metadata": {},
   "outputs": [
    {
     "name": "stdout",
     "output_type": "stream",
     "text": [
      "Enter number: 10\n",
      "100\n"
     ]
    }
   ],
   "source": [
    "number = int(input(\"Enter number: \"))\n",
    "def times_ten(number):\n",
    "    print(number * 10)\n",
    "times_ten(10)"
   ]
  },
  {
   "cell_type": "markdown",
   "metadata": {},
   "source": [
    "# Q4: \n",
    "Find the errors, debug the program, and then execute to show the output.\n",
    "\n",
    "def main()\n",
    "      Calories1 = input( \"How many calories are in the first food?\")\n",
    "      Calories2 = input( \"How many calories are in the first food?\")\n",
    "      showCalories(calories1, calories2)\n",
    "\n",
    "def showCalories()   \n",
    "   print(“The total calories you ate today”, format(calories1 + calories2,.2f))"
   ]
  },
  {
   "cell_type": "code",
   "execution_count": 64,
   "metadata": {},
   "outputs": [],
   "source": [
    "def main(): \n",
    "    # inserted int for each Calories1 and Calories2\n",
    "    Calories1 = int(input(\"How many calories are in the first food? \"))\n",
    "    Calories2 = int(input(\"How many calories are in the second food? \")) \n",
    "    #capitalized the first letter to match the variable\n",
    "    showCalories(Calories1, Calories2)\n",
    "# Used Calories1 and Calories 2 as arguments in second function\n",
    "def showCalories(Calories1, Calories2):\n",
    "    print(\"The total calories you ate today\", format(Calories1 + Calories2, \".2f\"))"
   ]
  },
  {
   "cell_type": "code",
   "execution_count": 65,
   "metadata": {},
   "outputs": [
    {
     "name": "stdout",
     "output_type": "stream",
     "text": [
      "How many calories are in the first food? 50\n",
      "How many calories are in the second food? 40\n",
      "The total calories you ate today 90.00\n"
     ]
    }
   ],
   "source": [
    "main()"
   ]
  },
  {
   "cell_type": "markdown",
   "metadata": {},
   "source": [
    "# Q5: \n",
    "Write a program that uses any loop (while or for) that calculates the total of the following series of numbers:\n",
    "         1/30 + 2/29 + 3/28 ............. + 30/1"
   ]
  },
  {
   "cell_type": "code",
   "execution_count": 93,
   "metadata": {},
   "outputs": [],
   "source": [
    "def sum_of_numbers():\n",
    "    total = 0\n",
    "    numbers = range(1,31)\n",
    "    numbers2 = range(30,0, -1)\n",
    "    for i in numbers:\n",
    "        total += (i/numbers2[i-1])\n",
    "\n",
    "    print(total)"
   ]
  },
  {
   "cell_type": "code",
   "execution_count": 94,
   "metadata": {
    "scrolled": true
   },
   "outputs": [
    {
     "name": "stdout",
     "output_type": "stream",
     "text": [
      "93.84460105853213\n"
     ]
    }
   ],
   "source": [
    "sum_of_numbers()"
   ]
  },
  {
   "cell_type": "markdown",
   "metadata": {},
   "source": [
    "# Q6: \n",
    "Write a function that computes the area of a triangle given its base and height.\n",
    "The formula for an area of a triangle is:\n",
    "AREA = 1/2 * BASE * HEIGHT\n",
    "\n",
    "For example, if the base was 5 and the height was 4, the area would be 10.\n",
    "triangle_area(5, 4)   # should print 10"
   ]
  },
  {
   "cell_type": "code",
   "execution_count": 71,
   "metadata": {},
   "outputs": [],
   "source": [
    "def area_of_triangle():\n",
    "    base = int(input(\"Enter base of triangle: \"))\n",
    "    height = int(input(\"Enter height of triangle: \"))\n",
    "    print(base*height/2)"
   ]
  },
  {
   "cell_type": "code",
   "execution_count": 72,
   "metadata": {},
   "outputs": [
    {
     "name": "stdout",
     "output_type": "stream",
     "text": [
      "Enter base of triangle: 5\n",
      "Enter height of triangle: 4\n",
      "10.0\n"
     ]
    }
   ],
   "source": [
    "area_of_triangle()"
   ]
  }
 ],
 "metadata": {
  "kernelspec": {
   "display_name": "Python 3",
   "language": "python",
   "name": "python3"
  },
  "language_info": {
   "codemirror_mode": {
    "name": "ipython",
    "version": 3
   },
   "file_extension": ".py",
   "mimetype": "text/x-python",
   "name": "python",
   "nbconvert_exporter": "python",
   "pygments_lexer": "ipython3",
   "version": "3.8.5"
  },
  "toc": {
   "base_numbering": "",
   "nav_menu": {},
   "number_sections": false,
   "sideBar": true,
   "skip_h1_title": false,
   "title_cell": "Table of Contents",
   "title_sidebar": "Contents",
   "toc_cell": false,
   "toc_position": {},
   "toc_section_display": true,
   "toc_window_display": true
  }
 },
 "nbformat": 4,
 "nbformat_minor": 4
}
